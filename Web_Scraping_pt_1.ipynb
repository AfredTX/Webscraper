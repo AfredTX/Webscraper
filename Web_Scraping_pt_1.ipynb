{
  "nbformat": 4,
  "nbformat_minor": 0,
  "metadata": {
    "colab": {
      "name": "Web Scraping pt 1",
      "provenance": [],
      "authorship_tag": "ABX9TyPakXEOs/FUW8uDkGguL7E6",
      "include_colab_link": true
    },
    "kernelspec": {
      "name": "python3",
      "display_name": "Python 3"
    }
  },
  "cells": [
    {
      "cell_type": "markdown",
      "metadata": {
        "id": "view-in-github",
        "colab_type": "text"
      },
      "source": [
        "<a href=\"https://colab.research.google.com/github/AfredTX/Webscraper/blob/master/Web_Scraping_pt_1.ipynb\" target=\"_parent\"><img src=\"https://colab.research.google.com/assets/colab-badge.svg\" alt=\"Open In Colab\"/></a>"
      ]
    },
    {
      "cell_type": "code",
      "metadata": {
        "id": "lsZvjUx_uzBg",
        "colab_type": "code",
        "colab": {}
      },
      "source": [
        "import requests\n",
        "\n",
        "url = ' https://www.space.com/news'\n",
        "response = requests.get(url)\n",
        "\n",
        "if(response.ok):\n",
        "  data = response.text\n",
        "  #print(data)"
      ],
      "execution_count": 0,
      "outputs": []
    },
    {
      "cell_type": "code",
      "metadata": {
        "id": "Nd_MRq56x9oZ",
        "colab_type": "code",
        "colab": {}
      },
      "source": [
        "from bs4 import BeautifulSoup\n",
        "\n",
        "soup = BeautifulSoup(data, 'html.parser')"
      ],
      "execution_count": 0,
      "outputs": []
    },
    {
      "cell_type": "code",
      "metadata": {
        "id": "X5KxAsyIzCUI",
        "colab_type": "code",
        "colab": {}
      },
      "source": [
        "#print(soup.prettify)"
      ],
      "execution_count": 0,
      "outputs": []
    },
    {
      "cell_type": "code",
      "metadata": {
        "id": "s7LCLu4jzh2z",
        "colab_type": "code",
        "outputId": "bf1f4043-4a68-4317-d4c8-b7dda43885e9",
        "colab": {
          "base_uri": "https://localhost:8080/",
          "height": 1000
        }
      },
      "source": [
        "soup.find_all('header')"
      ],
      "execution_count": 4,
      "outputs": [
        {
          "output_type": "execute_result",
          "data": {
            "text/plain": [
              "[<header class=\"vertical-header \">\n",
              " <h1>Space News</h1>\n",
              " </header>, <header>\n",
              " <h2 class=\"list-title\"> Browse categories</h2>\n",
              " <a class=\"list-heading-link\" href=\"\"> </a> </header>, <header>\n",
              " <h3 class=\"article-name\">On This Day in Space: March 29, 1807: Heinrich Olbers discovers asteroid Vesta</h3>\n",
              " <p class=\"byline\">\n",
              " <span class=\"by-author\">\n",
              " By\n",
              " <span style=\"white-space:nowrap\">\n",
              " Hanneke Weitering </span>\n",
              " </span>\n",
              " <time class=\"published-date relative-date\" data-published-date=\"2020-03-29T13:16:35Z\" datetime=\"2020-03-29T13:16:35Z\"></time>\n",
              " </p>\n",
              " </header>, <header>\n",
              " <h3 class=\"article-name\">Michael Biehn cast for 'Star Wars: The Mandalorian' — Report</h3>\n",
              " <p class=\"byline\">\n",
              " <span class=\"by-author\">\n",
              " By\n",
              " <span style=\"white-space:nowrap\">\n",
              " Chris Arrant </span>\n",
              " </span>\n",
              " <time class=\"published-date relative-date\" data-published-date=\"2020-03-29T12:57:11Z\" datetime=\"2020-03-29T12:57:11Z\"></time>\n",
              " </p>\n",
              " </header>, <header>\n",
              " <h3 class=\"article-name\">Stuck at home? Take a tour through Disney's (empty) Star Wars, Pandora and space-age parks</h3>\n",
              " <p class=\"byline\">\n",
              " <span class=\"by-author\">\n",
              " By\n",
              " <span style=\"white-space:nowrap\">\n",
              " Chelsea Gohd </span>\n",
              " </span>\n",
              " <time class=\"published-date relative-date\" data-published-date=\"2020-03-29T12:52:36Z\" datetime=\"2020-03-29T12:52:36Z\"></time>\n",
              " </p>\n",
              " </header>, <header>\n",
              " <h3 class=\"article-name\">Gemini, the 'heavenly twins' grace the evening sky this spring</h3>\n",
              " <p class=\"byline\">\n",
              " <span class=\"by-author\">\n",
              " By\n",
              " <span style=\"white-space:nowrap\">\n",
              " Joe Rao </span>\n",
              " </span>\n",
              " <time class=\"published-date relative-date\" data-published-date=\"2020-03-29T12:42:03Z\" datetime=\"2020-03-29T12:42:03Z\"></time>\n",
              " </p>\n",
              " </header>, <header>\n",
              " <h3 class=\"article-name\">OneWeb, a satellite internet startup, files for Chapter 11 bankruptcy</h3>\n",
              " <p class=\"byline\">\n",
              " <span class=\"by-author\">\n",
              " By\n",
              " <span style=\"white-space:nowrap\">\n",
              " Tariq Malik </span>\n",
              " </span>\n",
              " <time class=\"published-date relative-date\" data-published-date=\"2020-03-28T13:41:59Z\" datetime=\"2020-03-28T13:41:59Z\"></time>\n",
              " </p>\n",
              " </header>, <header>\n",
              " <h3 class=\"article-name\">Doctor Who has broadcast a heartwarming 'emergency transmission' to help us through the coronavirus pandemic\n",
              " </h3>\n",
              " <p class=\"byline\">\n",
              " <span class=\"by-author\">\n",
              " By\n",
              " <span style=\"white-space:nowrap\">\n",
              " Millicent Thomas </span>\n",
              " </span>\n",
              " <time class=\"published-date relative-date\" data-published-date=\"2020-03-28T13:41:56Z\" datetime=\"2020-03-28T13:41:56Z\"></time>\n",
              " </p>\n",
              " </header>, <header>\n",
              " <h3 class=\"article-name\">Astronauts, 'Star Trek: Picard' actor &amp; more remind us of the bigger picture in face of coronavirus</h3>\n",
              " <p class=\"byline\">\n",
              " <span class=\"by-author\">\n",
              " By\n",
              " <span style=\"white-space:nowrap\">\n",
              " Chelsea Gohd </span>\n",
              " </span>\n",
              " <time class=\"published-date relative-date\" data-published-date=\"2020-03-28T13:41:48Z\" datetime=\"2020-03-28T13:41:48Z\"></time>\n",
              " </p>\n",
              " </header>, <header>\n",
              " <h3 class=\"article-name\">The top space stories of the week!</h3>\n",
              " <p class=\"byline\">\n",
              " <span class=\"by-author\">\n",
              " By\n",
              " <span style=\"white-space:nowrap\">\n",
              " Doris Elin Urrutia </span>\n",
              " </span>\n",
              " <time class=\"published-date relative-date\" data-published-date=\"2020-03-28T13:40:59Z\" datetime=\"2020-03-28T13:40:59Z\"></time>\n",
              " </p>\n",
              " </header>, <header>\n",
              " <h3 class=\"article-name\">Space photos: The most amazing images this week!</h3>\n",
              " <p class=\"byline\">\n",
              " <span class=\"by-author\">\n",
              " By\n",
              " <span style=\"white-space:nowrap\">\n",
              " Doris Elin Urrutia </span>\n",
              " </span>\n",
              " <time class=\"published-date relative-date\" data-published-date=\"2020-03-28T13:38:19Z\" datetime=\"2020-03-28T13:38:19Z\"></time>\n",
              " </p>\n",
              " </header>, <header>\n",
              " <h3 class=\"article-name\">Astrophysicist Brian May (of Queen!) teaches you how to play the Bohemian Rhapsody solo while in self-isolation</h3>\n",
              " <p class=\"byline\">\n",
              " <span class=\"by-author\">\n",
              " By\n",
              " <span style=\"white-space:nowrap\">\n",
              " Richard Bienstock </span>\n",
              " </span>\n",
              " <time class=\"published-date relative-date\" data-published-date=\"2020-03-28T12:01:30Z\" datetime=\"2020-03-28T12:01:30Z\"></time>\n",
              " </p>\n",
              " </header>, <header>\n",
              " <h3 class=\"article-name\">NASA picks SpaceX to fly cargo to moon-orbiting Gateway space station</h3>\n",
              " <p class=\"byline\">\n",
              " <span class=\"by-author\">\n",
              " By\n",
              " <span style=\"white-space:nowrap\">\n",
              " Mike Wall </span>\n",
              " </span>\n",
              " <time class=\"published-date relative-date\" data-published-date=\"2020-03-27T21:57:16Z\" datetime=\"2020-03-27T21:57:16Z\"></time>\n",
              " </p>\n",
              " </header>, <header>\n",
              " <h3 class=\"article-name\">See Venus swing by the crescent moon this weekend</h3>\n",
              " <p class=\"byline\">\n",
              " <span class=\"by-author\">\n",
              " By\n",
              " <span style=\"white-space:nowrap\">\n",
              " Hanneke Weitering </span>\n",
              " </span>\n",
              " <time class=\"published-date relative-date\" data-published-date=\"2020-03-27T21:20:42Z\" datetime=\"2020-03-27T21:20:42Z\"></time>\n",
              " </p>\n",
              " </header>, <header>\n",
              " <h3 class=\"article-name\">The best Disney Plus movies and shows for space fans: Star Wars, sci-fi and more</h3>\n",
              " <p class=\"byline\">\n",
              " <span class=\"by-author\">\n",
              " By\n",
              " <span style=\"white-space:nowrap\">\n",
              " Elizabeth Howell </span>\n",
              " </span>\n",
              " <time class=\"published-date relative-date\" data-published-date=\"2020-03-27T21:08:18Z\" datetime=\"2020-03-27T21:08:18Z\"></time>\n",
              " </p>\n",
              " </header>, <header>\n",
              " <h3 class=\"article-name\">The 'Star Trek: Picard' finale is both amazing and awful, yet ultimately disappointing</h3>\n",
              " <p class=\"byline\">\n",
              " <span class=\"by-author\">\n",
              " By\n",
              " <span style=\"white-space:nowrap\">\n",
              " Scott Snowden </span>\n",
              " </span>\n",
              " <time class=\"published-date relative-date\" data-published-date=\"2020-03-27T19:48:28Z\" datetime=\"2020-03-27T19:48:28Z\"></time>\n",
              " </p>\n",
              " </header>, <header>\n",
              " <h3 class=\"article-name\">Here's why the Space Force just launched a rocket as the world fights the coronavirus pandemic</h3>\n",
              " <p class=\"byline\">\n",
              " <span class=\"by-author\">\n",
              " By\n",
              " <span style=\"white-space:nowrap\">\n",
              " Mike Wall </span>\n",
              " </span>\n",
              " <time class=\"published-date relative-date\" data-published-date=\"2020-03-27T19:47:41Z\" datetime=\"2020-03-27T19:47:41Z\"></time>\n",
              " </p>\n",
              " </header>, <header>\n",
              " <h3 class=\"article-name\">Astronauts in space are beaming positivity to the people of Earth. (Amazing photos, too.)</h3>\n",
              " <p class=\"byline\">\n",
              " <span class=\"by-author\">\n",
              " By\n",
              " <span style=\"white-space:nowrap\">\n",
              " Chelsea Gohd </span>\n",
              " </span>\n",
              " <time class=\"published-date relative-date\" data-published-date=\"2020-03-27T19:14:10Z\" datetime=\"2020-03-27T19:14:10Z\"></time>\n",
              " </p>\n",
              " </header>, <header>\n",
              " <h3 class=\"article-name\">New satellite views show impact of coronavirus on emissions, China's night lights</h3>\n",
              " <p class=\"byline\">\n",
              " <span class=\"by-author\">\n",
              " By\n",
              " <span style=\"white-space:nowrap\">\n",
              " Meghan Bartels </span>\n",
              " </span>\n",
              " <time class=\"published-date relative-date\" data-published-date=\"2020-03-27T18:07:23Z\" datetime=\"2020-03-27T18:07:23Z\"></time>\n",
              " </p>\n",
              " </header>, <header>\n",
              " <h3 class=\"article-name\">Are China's moon missions a threat to the US? Space experts don't think so</h3>\n",
              " <p class=\"byline\">\n",
              " <span class=\"by-author\">\n",
              " By\n",
              " <span style=\"white-space:nowrap\">\n",
              " Elizabeth Howell </span>\n",
              " </span>\n",
              " <time class=\"published-date relative-date\" data-published-date=\"2020-03-27T14:47:07Z\" datetime=\"2020-03-27T14:47:07Z\"></time>\n",
              " </p>\n",
              " </header>, <header>\n",
              " <h3 class=\"article-name\">Pictures from space! Our image of the day</h3>\n",
              " <p class=\"byline\">\n",
              " <span class=\"by-author\">\n",
              " By\n",
              " <span style=\"white-space:nowrap\">\n",
              " Space.com Staff </span>\n",
              " </span>\n",
              " <time class=\"published-date relative-date\" data-published-date=\"2020-03-27T14:18:29Z\" datetime=\"2020-03-27T14:18:29Z\"></time>\n",
              " </p>\n",
              " </header>, <header>\n",
              " <h3 class=\"article-name\">SpaceX stacks third Starship prototype ahead of testing (photos)</h3>\n",
              " <p class=\"byline\">\n",
              " <span class=\"by-author\">\n",
              " By\n",
              " <span style=\"white-space:nowrap\">\n",
              " Mike Wall </span>\n",
              " </span>\n",
              " <time class=\"published-date relative-date\" data-published-date=\"2020-03-27T11:56:24Z\" datetime=\"2020-03-27T11:56:24Z\"></time>\n",
              " </p>\n",
              " </header>]"
            ]
          },
          "metadata": {
            "tags": []
          },
          "execution_count": 4
        }
      ]
    },
    {
      "cell_type": "code",
      "metadata": {
        "id": "bLADGD0s1Ww9",
        "colab_type": "code",
        "outputId": "00ac646a-d3ec-4ea8-849d-b2d109e4c5cb",
        "colab": {
          "base_uri": "https://localhost:8080/",
          "height": 55
        }
      },
      "source": [
        "titles = soup.find_all(class_ = 'article-name')\n",
        "just_titles = [title.get_text() for title in titles]\n",
        "print(just_titles)"
      ],
      "execution_count": 5,
      "outputs": [
        {
          "output_type": "stream",
          "text": [
            "['On This Day in Space: March 29, 1807: Heinrich Olbers discovers asteroid Vesta', \"Michael Biehn cast for 'Star Wars: The Mandalorian' — Report\", \"Stuck at home? Take a tour through Disney's (empty) Star Wars, Pandora and space-age parks\", \"Gemini, the 'heavenly twins' grace the evening sky this spring\", 'OneWeb, a satellite internet startup, files for Chapter 11 bankruptcy', \"Doctor Who has broadcast a heartwarming 'emergency transmission' to help us through the coronavirus pandemic\\n\", \"Astronauts, 'Star Trek: Picard' actor & more remind us of the bigger picture in face of coronavirus\", 'The top space stories of the week!', 'Space photos: The most amazing images this week!', 'Astrophysicist Brian May (of Queen!) teaches you how to play the Bohemian Rhapsody solo while in self-isolation', 'NASA picks SpaceX to fly cargo to moon-orbiting Gateway space station', 'See Venus swing by the crescent moon this weekend', 'The best Disney Plus movies and shows for space fans: Star Wars, sci-fi and more', \"The 'Star Trek: Picard' finale is both amazing and awful, yet ultimately disappointing\", \"Here's why the Space Force just launched a rocket as the world fights the coronavirus pandemic\", 'Astronauts in space are beaming positivity to the people of Earth. (Amazing photos, too.)', \"New satellite views show impact of coronavirus on emissions, China's night lights\", \"Are China's moon missions a threat to the US? Space experts don't think so\", 'Pictures from space! Our image of the day', 'SpaceX stacks third Starship prototype ahead of testing (photos)']\n"
          ],
          "name": "stdout"
        }
      ]
    },
    {
      "cell_type": "code",
      "metadata": {
        "id": "w6OS4RcU2VlM",
        "colab_type": "code",
        "outputId": "bfe0a9ba-7f99-4805-9280-b1a5ed2c8582",
        "colab": {
          "base_uri": "https://localhost:8080/",
          "height": 74
        }
      },
      "source": [
        "authors = soup.find_all(style = 'white-space:nowrap')\n",
        "just_authors = [author.get_text() for author in authors]\n",
        "print(just_authors)"
      ],
      "execution_count": 6,
      "outputs": [
        {
          "output_type": "stream",
          "text": [
            "['\\nHanneke Weitering ', '\\nChris Arrant ', '\\nChelsea Gohd ', '\\nJoe Rao ', '\\nTariq Malik ', '\\nMillicent Thomas ', '\\nChelsea Gohd ', '\\nDoris Elin Urrutia ', '\\nDoris Elin Urrutia ', '\\nRichard Bienstock ', '\\nMike Wall ', '\\nHanneke Weitering ', '\\nElizabeth Howell ', '\\nScott Snowden ', '\\nMike Wall ', '\\nChelsea Gohd ', '\\nMeghan Bartels ', '\\nElizabeth Howell ', '\\nSpace.com Staff ', '\\nMike Wall ']\n",
            "ERROR! Session/line number was not unique in database. History logging moved to new session 59\n"
          ],
          "name": "stdout"
        }
      ]
    },
    {
      "cell_type": "code",
      "metadata": {
        "id": "jNj3Kxhm2XoB",
        "colab_type": "code",
        "outputId": "0d153c3a-7d94-424b-e922-aeee5558b180",
        "colab": {
          "base_uri": "https://localhost:8080/",
          "height": 55
        }
      },
      "source": [
        "synopses = soup.find_all(class_= 'synopsis')\n",
        "just_synopses = [synopsis.get_text() for synopsis in synopses]\n",
        "print(just_synopses)"
      ],
      "execution_count": 7,
      "outputs": [
        {
          "output_type": "stream",
          "text": [
            "['\\nOn March 29, 1807, the German astronomer Heinrich Olbers discovered the asteroid Vesta. See how it happened in our On This Day in Space video series!\\n', \"\\nMichael Biehn has been cast in an undisclosed role in Star Wars: The Mandalorian's second season.\\n\", '\\nFrom the comfort and safety of your own home, you can now explore Walt Disney World all by yourself.\\n', '\\nVisible above the southwest horizon in the early evenings, the constellation of Gemini, the twins is rich with celestial sights. Here\\'s the story behind the \"heavenly twins.\"\\n', '\\nSatellite internet startup OneWeb has filed for Chapter 11 bankruptcy, a move that comes less than a week after the company launched nearly three dozen satellites into orbit.\\n', '\\nJodie Whittaker, the 13th Doctor from BBC\\'s iconic sci-fi series \"Doctor Who,\" has an emergency transmission for the coronavirus pandemic.\\n', '\\n\"We need to leave this as crew of spaceship Earth, not as passengers.\"\\n', '\\nThese are the top space stories this week from Space.com.\\n', '\\nHere are our picks for the most amazing space photos of the week.\\n', '\\nRemember the video of the quarantined Italian citizen channeling his best Brian May by blasting the electric guitar solo from Queen’s We Will Rock You out into the world from his balcony in Rome?\\n', '\\nSpaceX cargo craft will soon reach much farther out into the final frontier, if all goes according to plan.\\n', '\\nThe \"evening star\" Venus will meet up with the waxing, crescent moon in the night sky this weekend. You can spot the celestial pair above the western horizon after sunset.\\n', '\\nAs we all search for things to do while stuck in our homes, know that Disney Plus has many, many hours of content for space nerds to enjoy.\\n', '\\nThe concluding part of the \"Star Trek: Picard\" season finale is going to polarize \\'Star Trek\\' fans for a long time to come. But as a piece of writing for television, it falls short.\\n', '\\nLaunches are rare these days.\\n', '\\nAstronauts at the International Space Station are sharing positivity and stunning images of our home planet from their temporary home in orbit.\\n', '\\nAs countries have shut down to slow the spread of the new coronavirus, satellites in orbit around Earth are noticing resulting changes to our home world.\\n', \"\\nU.S. fears that China could set up a moon base for spying do not line up with the country's statements about its space program, according to security experts.\\n\", '\\nComet C/2019 Y4 Atlas is slowly brightening in the night sky as it gets ready to swing around the sun in a couple months.\\n', '\\nThe SN3 could take to the skies soon.\\n']\n"
          ],
          "name": "stdout"
        }
      ]
    },
    {
      "cell_type": "code",
      "metadata": {
        "id": "FsPV_Lc4LYBd",
        "colab_type": "code",
        "outputId": "646e6479-07e0-47f2-8553-adf345f8c862",
        "colab": {
          "base_uri": "https://localhost:8080/",
          "height": 35
        }
      },
      "source": [
        "date_and_time = soup.find_all('')\n",
        "just_date_and_time = [date.get_text() for date in date_and_time]\n",
        "print(just_date_and_time)"
      ],
      "execution_count": 8,
      "outputs": [
        {
          "output_type": "stream",
          "text": [
            "[]\n"
          ],
          "name": "stdout"
        }
      ]
    },
    {
      "cell_type": "code",
      "metadata": {
        "id": "-3rlIS0CMjNf",
        "colab_type": "code",
        "outputId": "ed5a7377-af26-4a4d-afe7-45072b4a49ca",
        "colab": {
          "base_uri": "https://localhost:8080/",
          "height": 55
        }
      },
      "source": [
        ""
      ],
      "execution_count": 0,
      "outputs": [
        {
          "output_type": "stream",
          "text": [
            "['Space photos: The most amazing images this week!', 'The top space stories of the week!', \"In photos: See the Antares rocket's Cygnus NG-13 cargo ship launch to space station\", \"On This Day in Space: Feb. 16, 1948: Gerard Kuiper discovers Uranus' moon Miranda\", 'What if Earth were a super-Earth?', 'Orion and its dimming star Betelgeuse shine over a stargazer in this sentimental night-sky photo', \"The lost continent of Zealandia hides clues to the Ring of Fire's birth\", 'SpaceX delays launch of 60 Starlink satellites due to rocket valve checks', 'Northrop Grumman launches Cygnus cargo ship to space station for NASA', \"One of Antarctica's fastest-shrinking glaciers just lost an iceberg twice the size of Washington, D.C.\", 'SpaceX Crew Dragon arrives at launch site for the 1st orbital crew flight from US soil since 2011', \"Disney's new 'Rise of the Resistance' ride puts you in an epic 'Star Wars' battle\", \"You'll be able to make a reservation for Disney's Star Wars: Galactic Starcruiser this year\", \"SETI search of interstellar Comet Borisov finds no sign of alien 'technosignatures'\", 'SpaceX tests Falcon 9 rocket for next Starlink satellite fleet launch', \"Puppy love! Astronaut's reunion with her dog after a nearly yearlong flight made us cry\", \"Google Doodle celebrates Valentine's Day 2020 with super-adorable aliens\", \"Valentine's Day Cygnus cargo ship launch to space station delayed by high winds\", \"Pearl Jam gets cosmic with 'Superblood Wolfmoon' AR experience, new album\", \"Virgin Galactic's VSS Unity space plane arrives at New Mexico spaceport\", '\\n\\nSign Up for e-mail newsletters\\n\\n']\n"
          ],
          "name": "stdout"
        }
      ]
    }
  ]
}